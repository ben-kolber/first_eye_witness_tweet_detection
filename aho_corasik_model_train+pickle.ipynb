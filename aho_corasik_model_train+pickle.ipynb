{
 "cells": [
  {
   "cell_type": "code",
   "execution_count": 1,
   "metadata": {},
   "outputs": [],
   "source": [
    "import ahocorasick\n",
    "import pandas as pd\n",
    "import pickle\n",
    "from nltk.stem import PorterStemmer"
   ]
  },
  {
   "cell_type": "code",
   "execution_count": 2,
   "metadata": {},
   "outputs": [],
   "source": [
    "def stem_sentences(list):\n",
    "    porter_stemmer = PorterStemmer()\n",
    "    stemmed_tokens = [porter_stemmer.stem(token) for token in list]\n",
    "    return stemmed_tokens"
   ]
  },
  {
   "cell_type": "code",
   "execution_count": 3,
   "metadata": {},
   "outputs": [],
   "source": [
    "first_person = ahocorasick.Automaton()\n",
    "current = ahocorasick.Automaton()\n",
    "curse_words = ahocorasick.Automaton()\n",
    "proximity = ahocorasick.Automaton()\n",
    "natural_disaster = ahocorasick.Automaton()\n",
    "caution = ahocorasick.Automaton()\n",
    "emotions = ahocorasick.Automaton()\n",
    "perceptual = ahocorasick.Automaton()\n",
    "infastructure_damage = ahocorasick.Automaton()\n",
    "human_suffering = ahocorasick.Automaton()\n",
    "distress = ahocorasick.Automaton()\n",
    "emergency = ahocorasick.Automaton()\n",
    "descriptors = ahocorasick.Automaton()"
   ]
  },
  {
   "cell_type": "code",
   "execution_count": 4,
   "metadata": {},
   "outputs": [
    {
     "data": {
      "text/plain": [
       "Index(['FirstPerson', 'Current', 'CurseWords', 'Proximity', 'Ndisaster',\n",
       "       'Caution', 'Emotions', 'Perceptual', 'Infrastructure Damage',\n",
       "       'Human Suffering', 'Distress', 'Emergency', 'Descriptors'],\n",
       "      dtype='object')"
      ]
     },
     "execution_count": 4,
     "metadata": {},
     "output_type": "execute_result"
    }
   ],
   "source": [
    "data = pd.read_csv('civid_filter_words.csv', encoding='iso-8859-1')\n",
    "data.columns"
   ]
  },
  {
   "cell_type": "code",
   "execution_count": 5,
   "metadata": {},
   "outputs": [],
   "source": [
    "models = [first_person, current, curse_words, proximity, \n",
    "          natural_disaster, caution, emotions, perceptual,\n",
    "         infastructure_damage, human_suffering, distress,\n",
    "         emergency, descriptors]"
   ]
  },
  {
   "cell_type": "markdown",
   "metadata": {},
   "source": [
    "## fill models up with words"
   ]
  },
  {
   "cell_type": "code",
   "execution_count": 6,
   "metadata": {},
   "outputs": [],
   "source": [
    "def seed_models(corasick_model , data):\n",
    "    for idx, key in enumerate(data):\n",
    "        corasick_model.add_word(key.lower().strip(), (idx, key))"
   ]
  },
  {
   "cell_type": "code",
   "execution_count": 7,
   "metadata": {
    "scrolled": true
   },
   "outputs": [],
   "source": [
    "count = 0\n",
    "for column in data:\n",
    "    lst = list(data[column])\n",
    "    cleanedList = [x for x in lst if str(x) != 'nan']\n",
    "    cleanedList = stem_sentences(cleanedList)\n",
    "    seed_models(models[count] , cleanedList)\n",
    "    count+=1"
   ]
  },
  {
   "cell_type": "code",
   "execution_count": 8,
   "metadata": {},
   "outputs": [],
   "source": [
    "for model in models:\n",
    "    model.make_automaton()"
   ]
  },
  {
   "cell_type": "markdown",
   "metadata": {},
   "source": [
    "## pickle paths and pickling the ahocorasik models "
   ]
  },
  {
   "cell_type": "code",
   "execution_count": 9,
   "metadata": {},
   "outputs": [],
   "source": [
    "pickled_first_person = '/Users/benjaminkolber/Desktop/aho_corasik_trained_models/first_person.pickle'\n",
    "pickled_current ='/Users/benjaminkolber/Desktop/aho_corasik_trained_models/current.pickle'\n",
    "pickled_curse = '/Users/benjaminkolber/Desktop/aho_corasik_trained_models/curse.pickle'\n",
    "pickled_proximity = '/Users/benjaminkolber/Desktop/aho_corasik_trained_models/proximity.pickle'\n",
    "pickled_disasters = '/Users/benjaminkolber/Desktop/aho_corasik_trained_models/disasters.pickle'\n",
    "pickled_caution = '/Users/benjaminkolber/Desktop/aho_corasik_trained_models/caution.pickle'\n",
    "pickled_emotions = '/Users/benjaminkolber/Desktop/aho_corasik_trained_models/emotions.pickle'\n",
    "pickled_perceptual = '/Users/benjaminkolber/Desktop/aho_corasik_trained_models/perceptual.pickle'\n",
    "pickled_dmg = '/Users/benjaminkolber/Desktop/aho_corasik_trained_models/dmg.pickle'\n",
    "pickled_suffering = '/Users/benjaminkolber/Desktop/aho_corasik_trained_models/suffering.pickle'\n",
    "pickled_distress = '/Users/benjaminkolber/Desktop/aho_corasik_trained_models/distress.pickle'\n",
    "pickled_emergency = '/Users/benjaminkolber/Desktop/aho_corasik_trained_models/emergency.pickle'\n",
    "pickled_descriptors = '/Users/benjaminkolber/Desktop/aho_corasik_trained_models/descriptors.pickle'\n",
    "\n",
    "\n",
    "files = [pickled_first_person, pickled_current, pickled_curse, \n",
    "         pickled_proximity, pickled_disasters, pickled_caution, \n",
    "         pickled_emotions, pickled_perceptual, pickled_dmg, \n",
    "         pickled_suffering, pickled_distress, pickled_emergency, \n",
    "         pickled_descriptors]"
   ]
  },
  {
   "cell_type": "code",
   "execution_count": 10,
   "metadata": {},
   "outputs": [
    {
     "name": "stdout",
     "output_type": "stream",
     "text": [
      "1\n",
      "2\n",
      "3\n",
      "4\n",
      "5\n",
      "6\n",
      "7\n",
      "8\n",
      "9\n",
      "10\n",
      "11\n",
      "12\n",
      "13\n"
     ]
    }
   ],
   "source": [
    "count = 0\n",
    "for file in files:\n",
    "    tmp = open(file, 'wb')\n",
    "    pickle.dump(models[count] , tmp)\n",
    "    count+=1\n",
    "    print(count)"
   ]
  },
  {
   "cell_type": "code",
   "execution_count": 11,
   "metadata": {},
   "outputs": [
    {
     "name": "stdout",
     "output_type": "stream",
     "text": [
      "done\n"
     ]
    }
   ],
   "source": [
    "print('done')"
   ]
  },
  {
   "cell_type": "code",
   "execution_count": null,
   "metadata": {},
   "outputs": [],
   "source": []
  }
 ],
 "metadata": {
  "kernelspec": {
   "display_name": "Python 3",
   "language": "python",
   "name": "python3"
  },
  "language_info": {
   "codemirror_mode": {
    "name": "ipython",
    "version": 3
   },
   "file_extension": ".py",
   "mimetype": "text/x-python",
   "name": "python",
   "nbconvert_exporter": "python",
   "pygments_lexer": "ipython3",
   "version": "3.7.2"
  }
 },
 "nbformat": 4,
 "nbformat_minor": 2
}
